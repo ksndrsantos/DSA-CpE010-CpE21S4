{
  "nbformat": 4,
  "nbformat_minor": 0,
  "metadata": {
    "colab": {
      "provenance": [],
      "authorship_tag": "ABX9TyMEWpEDb2qhzZRdVB6SaF8B",
      "include_colab_link": true
    },
    "kernelspec": {
      "name": "python3",
      "display_name": "Python 3"
    },
    "language_info": {
      "name": "python"
    }
  },
  "cells": [
    {
      "cell_type": "markdown",
      "metadata": {
        "id": "view-in-github",
        "colab_type": "text"
      },
      "source": [
        "<a href=\"https://colab.research.google.com/github/ksndrsantos/DSA-CpE010-CpE21S4/blob/main/DSA_Exercise_2.ipynb\" target=\"_parent\"><img src=\"https://colab.research.google.com/assets/colab-badge.svg\" alt=\"Open In Colab\"/></a>"
      ]
    },
    {
      "cell_type": "code",
      "execution_count": 7,
      "metadata": {
        "colab": {
          "base_uri": "https://localhost:8080/"
        },
        "id": "-8FLTlJb5G0o",
        "outputId": "200a52d0-9db8-4a6c-fee1-a393f93ba080"
      },
      "outputs": [
        {
          "output_type": "stream",
          "name": "stdout",
          "text": [
            "6\n",
            "3\n",
            "25\n"
          ]
        }
      ],
      "source": [
        "class Shapes():\n",
        "  def __init__(self,length=0,width=0,sides=0,base=0,height=0):\n",
        "    self.length = length\n",
        "    self.width = width\n",
        "    self.sides = sides\n",
        "    self.base = base\n",
        "    self.height = height\n",
        "\n",
        "  def area():\n",
        "    raise ForSubclasses\n",
        "\n",
        "class Rectangle(Shapes):\n",
        "    def __init__(self, length, width):\n",
        "        super().__init__(length=length, width=width)\n",
        "\n",
        "    def area(self):\n",
        "        return self.length * self.width\n",
        "\n",
        "class Triangle(Shapes):\n",
        "    def __init__(self, base, height):\n",
        "        super().__init__(base=base, height=height)\n",
        "\n",
        "    def area(self):\n",
        "        return self.base * self.height //2\n",
        "\n",
        "class Square(Shapes):\n",
        "    def __init__(self, sides):\n",
        "      super().__init__()\n",
        "      self.sides = sides\n",
        "\n",
        "    def area(self):\n",
        "      return self.sides **2\n",
        "\n",
        "rectangle = Rectangle (length=2, width=3)\n",
        "print(rectangle.area())\n",
        "\n",
        "triangle = Triangle(base=2, height=3)\n",
        "print(triangle.area())\n",
        "\n",
        "square = Square(sides=5)\n",
        "print(square.area())\n"
      ]
    }
  ]
}