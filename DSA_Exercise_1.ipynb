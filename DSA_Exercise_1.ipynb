{
  "nbformat": 4,
  "nbformat_minor": 0,
  "metadata": {
    "colab": {
      "provenance": [],
      "authorship_tag": "ABX9TyNx+XKBOvvCQ92HBAQq0Uk6",
      "include_colab_link": true
    },
    "kernelspec": {
      "name": "python3",
      "display_name": "Python 3"
    },
    "language_info": {
      "name": "python"
    }
  },
  "cells": [
    {
      "cell_type": "markdown",
      "metadata": {
        "id": "view-in-github",
        "colab_type": "text"
      },
      "source": [
        "<a href=\"https://colab.research.google.com/github/ksndrsantos/DSA-CpE010-CpE21S4/blob/main/DSA_Exercise_1.ipynb\" target=\"_parent\"><img src=\"https://colab.research.google.com/assets/colab-badge.svg\" alt=\"Open In Colab\"/></a>"
      ]
    },
    {
      "cell_type": "markdown",
      "source": [
        "# **Exercise 1 (Class Constructor and Method)**\n",
        " 1. Develop a Python program that computes the area of a Rectangle shape.\n",
        " 2. Use Rectangle () as a class name.\n",
        " 3. Use attributes length and width..\n",
        " 4. Calculate the Area() of the rectangle.\n",
        " 5. Display the computed area of a rectangle. Note: OOP concepts of computing the area of a rectangle"
      ],
      "metadata": {
        "id": "ItXLfrQLoi3I"
      }
    },
    {
      "cell_type": "code",
      "execution_count": 17,
      "metadata": {
        "colab": {
          "base_uri": "https://localhost:8080/"
        },
        "id": "imPXDN48mY_l",
        "outputId": "89a62d39-1950-4312-bc4d-a5552d9615e7"
      },
      "outputs": [
        {
          "output_type": "stream",
          "name": "stdout",
          "text": [
            "Please enter the length of the rectangle: 10\n",
            "Please enter the width of the rectangle: 5\n",
            "The area of the rectangle is:  50\n"
          ]
        }
      ],
      "source": [
        "class rectangle():\n",
        "  def __init__(result,x,y):\n",
        "    result.x = x\n",
        "    result.y = y\n",
        "\n",
        "  def area(result):\n",
        "    return result.x * result.y\n",
        "\n",
        "x= int(input(\"Please enter the length of the rectangle: \"))\n",
        "y= int(input(\"Please enter the width of the rectangle: \"))\n",
        "\n",
        "finalanswer = rectangle (x,y)\n",
        "print (\"The area of the rectangle is: \", finalanswer.area())"
      ]
    }
  ]
}