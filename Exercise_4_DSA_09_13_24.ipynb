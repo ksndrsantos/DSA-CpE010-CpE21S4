{
  "nbformat": 4,
  "nbformat_minor": 0,
  "metadata": {
    "colab": {
      "provenance": [],
      "include_colab_link": true
    },
    "kernelspec": {
      "name": "python3",
      "display_name": "Python 3"
    },
    "language_info": {
      "name": "python"
    }
  },
  "cells": [
    {
      "cell_type": "markdown",
      "metadata": {
        "id": "view-in-github",
        "colab_type": "text"
      },
      "source": [
        "<a href=\"https://colab.research.google.com/github/ksndrsantos/DSA-CpE010-CpE21S4/blob/main/Exercise_4_DSA_09_13_24.ipynb\" target=\"_parent\"><img src=\"https://colab.research.google.com/assets/colab-badge.svg\" alt=\"Open In Colab\"/></a>"
      ]
    },
    {
      "cell_type": "code",
      "execution_count": null,
      "metadata": {
        "colab": {
          "base_uri": "https://localhost:8080/",
          "height": 36
        },
        "id": "QOU5H2sr-6bV",
        "outputId": "b7b0b983-5b4d-4708-9d1d-1ad0ab9352e9"
      },
      "outputs": [
        {
          "output_type": "execute_result",
          "data": {
            "text/plain": [
              "'f'"
            ],
            "application/vnd.google.colaboratory.intrinsic+json": {
              "type": "string"
            }
          },
          "metadata": {},
          "execution_count": 8
        }
      ],
      "source": [
        "import array\n",
        "array.typecodes #get all typecodes\n",
        "a = array.array('i', [1,2,3,4,5,6]) #initializing array a\n",
        "b = array.array('f', [1.5,2.5,3.5,4.5,5.5,6.5]) #initializing array b\n",
        "a.typecode #getting the typecode of a\n",
        "b.typecode #getting the typecode of b"
      ]
    },
    {
      "cell_type": "code",
      "source": [
        "from array import array\n",
        "a=array('i',[4,5,6,7])\n",
        "a\n",
        "a.insert(-1,0)\n",
        "a\n",
        "a.insert(10,-1)\n",
        "a\n"
      ],
      "metadata": {
        "colab": {
          "base_uri": "https://localhost:8080/"
        },
        "id": "EOSNi-J9Bpy7",
        "outputId": "975e994b-8779-440d-ad50-b13fc22ecccd"
      },
      "execution_count": null,
      "outputs": [
        {
          "output_type": "execute_result",
          "data": {
            "text/plain": [
              "array('i', [4, 5, 6, 0, 7, -1])"
            ]
          },
          "metadata": {},
          "execution_count": 15
        }
      ]
    },
    {
      "cell_type": "code",
      "source": [
        "# Node class / superclass\n",
        "class Node:\n",
        "  def __init__(self, data):\n",
        "    self.data = data\n",
        "    self.next = None\n",
        "\n",
        "class LinkedList: #subclass\n",
        "  def __init__(self):\n",
        "    self.head = None"
      ],
      "metadata": {
        "id": "IPCdTvyrEeQS"
      },
      "execution_count": null,
      "outputs": []
    },
    {
      "cell_type": "code",
      "source": [
        "if __name__ == '__main__':\n",
        "  llist = LinkedList()\n",
        "\n",
        "  llist.head = Node(1)\n",
        "  second = Node(2)\n",
        "  third = Node(3)\n",
        "\n",
        "  llist.head.next = second\n",
        "  second.next = third"
      ],
      "metadata": {
        "id": "rDiPvr0UGF5h"
      },
      "execution_count": null,
      "outputs": []
    },
    {
      "cell_type": "code",
      "source": [
        "def printdata(self):\n",
        "  temp = self.head\n",
        "  while(temp):\n",
        "    print(temp.data)\n",
        "    temp = temp.next\n",
        "print (llist.head.data)\n",
        "print (llist.head.next.data)\n",
        "print (llist.head.next.next.data)"
      ],
      "metadata": {
        "colab": {
          "base_uri": "https://localhost:8080/"
        },
        "id": "5XaTxwJ2Il5Y",
        "outputId": "a811adbe-9092-4985-c2f6-d9bc52a0758b"
      },
      "execution_count": null,
      "outputs": [
        {
          "output_type": "stream",
          "name": "stdout",
          "text": [
            "1\n",
            "2\n",
            "3\n"
          ]
        }
      ]
    },
    {
      "cell_type": "code",
      "source": [
        "\n",
        "print (llist.head.data, llist.head.next.data, llist.head.next.next.data)\n"
      ],
      "metadata": {
        "colab": {
          "base_uri": "https://localhost:8080/"
        },
        "id": "RkjJKlE0KfXY",
        "outputId": "0cd7377e-bbe4-4152-dcff-ebab887194f9"
      },
      "execution_count": null,
      "outputs": [
        {
          "output_type": "stream",
          "name": "stdout",
          "text": [
            "1 2 3\n"
          ]
        }
      ]
    },
    {
      "cell_type": "code",
      "source": [
        "#include <iostream>\n",
        "#using namespace std;\n",
        "\n",
        "class Node {\n",
        "  public:\n",
        "    int value;\n",
        "    Node* next;\n",
        "};\n",
        "\n",
        "int main() {\n",
        "  Node* head;\n",
        "  Node* one = NULL;\n",
        "  Node* two = NULL;\n",
        "  Node* three = NULL;\n",
        "  Node* four = NULL;\n",
        "  Node* five = NULL;\n",
        "\n",
        "  // allocate 5 nodes in the heap\n",
        "  one = new Node();\n",
        "  two = new Node();\n",
        "  three = new Node();\n",
        "  four = new Node();\n",
        "  five = new Node();\n",
        "\n",
        "  // assign values\n",
        "  one->value = 1;\n",
        "  two->value = 2;\n",
        "  three->value = 3;\n",
        "  four->value = 4;\n",
        "  five->value = 5;\n",
        "\n",
        "  // Connect nodes\n",
        "  one->next = two;\n",
        "  two->next = three;\n",
        "  three->next = four;\n",
        "  four->next = five;\n",
        "  five->next = NULL;\n",
        "\n",
        "  // print the linked list values\n",
        "  head = one;\n",
        "  while (head != NULL) {\n",
        "    cout << head->value << \" \";\n",
        "    head = head->next;\n",
        "  }\n",
        "\n",
        "  // Free allocated memory\n",
        "  delete one;\n",
        "  delete two;\n",
        "  delete three;\n",
        "  delete four;\n",
        "  delete five;\n",
        "\n",
        "  return 0;\n",
        "}\n"
      ],
      "metadata": {
        "id": "JCcCQOStjzzW",
        "colab": {
          "base_uri": "https://localhost:8080/",
          "height": 110
        },
        "outputId": "c1baf37f-cbd5-4dd1-f66a-428eac781bc4"
      },
      "execution_count": null,
      "outputs": [
        {
          "output_type": "error",
          "ename": "SyntaxError",
          "evalue": "invalid syntax (<ipython-input-2-a05b62744df2>, line 4)",
          "traceback": [
            "\u001b[0;36m  File \u001b[0;32m\"<ipython-input-2-a05b62744df2>\"\u001b[0;36m, line \u001b[0;32m4\u001b[0m\n\u001b[0;31m    class Node {\u001b[0m\n\u001b[0m               ^\u001b[0m\n\u001b[0;31mSyntaxError\u001b[0m\u001b[0;31m:\u001b[0m invalid syntax\n"
          ]
        }
      ]
    }
  ]
}