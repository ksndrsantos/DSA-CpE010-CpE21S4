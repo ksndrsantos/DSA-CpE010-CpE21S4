{
  "nbformat": 4,
  "nbformat_minor": 0,
  "metadata": {
    "colab": {
      "provenance": [],
      "authorship_tag": "ABX9TyNS3gLNvogwmFqlote0pgVj",
      "include_colab_link": true
    },
    "kernelspec": {
      "name": "python3",
      "display_name": "Python 3"
    },
    "language_info": {
      "name": "python"
    }
  },
  "cells": [
    {
      "cell_type": "markdown",
      "metadata": {
        "id": "view-in-github",
        "colab_type": "text"
      },
      "source": [
        "<a href=\"https://colab.research.google.com/github/ksndrsantos/DSA-CpE010-CpE21S4/blob/main/Excercise_3.ipynb\" target=\"_parent\"><img src=\"https://colab.research.google.com/assets/colab-badge.svg\" alt=\"Open In Colab\"/></a>"
      ]
    },
    {
      "cell_type": "code",
      "execution_count": 4,
      "metadata": {
        "colab": {
          "base_uri": "https://localhost:8080/"
        },
        "id": "GAdEnWoQvE09",
        "outputId": "811fa8b6-6a92-40cc-a0c1-e4008ac37341"
      },
      "outputs": [
        {
          "output_type": "stream",
          "name": "stdout",
          "text": [
            "Area is 78.540\n"
          ]
        }
      ],
      "source": [
        "def AreaCircle(r):\n",
        "  pi = 3.1416\n",
        "  return pi*(r**2)\n",
        "\n",
        "print (\"Area is %.3f\" % AreaCircle(5))"
      ]
    },
    {
      "cell_type": "code",
      "source": [
        "def AreaCircle(d):\n",
        "  pi = 3.1416\n",
        "  return pi*(d/2)**2\n",
        "\n",
        "print (\"Area is %.3f\" % AreaCircle(5))"
      ],
      "metadata": {
        "colab": {
          "base_uri": "https://localhost:8080/"
        },
        "id": "CW3jR__mwGcC",
        "outputId": "46b565d4-6a98-4e5d-824a-ac9808742805"
      },
      "execution_count": 5,
      "outputs": [
        {
          "output_type": "stream",
          "name": "stdout",
          "text": [
            "Area is 19.635\n"
          ]
        }
      ]
    },
    {
      "cell_type": "code",
      "source": [
        "animals = [\"cat\", \"dog\", \"fish\"]\n",
        "x = animals [0]\n",
        "print (x)"
      ],
      "metadata": {
        "colab": {
          "base_uri": "https://localhost:8080/"
        },
        "id": "WGXbNKF9xtde",
        "outputId": "f74aea02-adef-430f-c004-99205c7ddfcd"
      },
      "execution_count": 8,
      "outputs": [
        {
          "output_type": "stream",
          "name": "stdout",
          "text": [
            "cat\n"
          ]
        }
      ]
    },
    {
      "cell_type": "code",
      "source": [
        "animals = [\"cat\", \"dog\", \"fish\"]\n",
        "animals [0] = \"monkey\"\n",
        "print (animals)"
      ],
      "metadata": {
        "colab": {
          "base_uri": "https://localhost:8080/"
        },
        "id": "bvyi1kXDwQvY",
        "outputId": "2c9c76c0-079f-4498-a69c-2cab5a40b4b0"
      },
      "execution_count": 7,
      "outputs": [
        {
          "output_type": "stream",
          "name": "stdout",
          "text": [
            "['monkey', 'dog', 'fish']\n"
          ]
        }
      ]
    },
    {
      "cell_type": "code",
      "source": [
        "animals = [\"monkey\",\"cat\", \"dog\", \"fish\"]\n",
        "x = (len(animals))\n",
        "print (x)"
      ],
      "metadata": {
        "colab": {
          "base_uri": "https://localhost:8080/"
        },
        "id": "uNd1EMiFyWRa",
        "outputId": "50ce8403-b591-4a32-eecd-08306473e715"
      },
      "execution_count": 10,
      "outputs": [
        {
          "output_type": "stream",
          "name": "stdout",
          "text": [
            "4\n"
          ]
        }
      ]
    },
    {
      "cell_type": "code",
      "source": [
        "animals = [\"monkey\",\"cat\", \"dog\", \"fish\"]\n",
        "for x in animals:\n",
        "  print (x)"
      ],
      "metadata": {
        "colab": {
          "base_uri": "https://localhost:8080/"
        },
        "id": "MEBGj2rmypAq",
        "outputId": "7e691191-82fc-47c5-977d-e69edd245a41"
      },
      "execution_count": 11,
      "outputs": [
        {
          "output_type": "stream",
          "name": "stdout",
          "text": [
            "monkey\n",
            "cat\n",
            "dog\n",
            "fish\n"
          ]
        }
      ]
    },
    {
      "cell_type": "code",
      "source": [
        "animals = [\"monkey\",\"cat\", \"dog\", \"fish\"]\n",
        "animals.append (\"bird\")\n",
        "print (animals)"
      ],
      "metadata": {
        "colab": {
          "base_uri": "https://localhost:8080/"
        },
        "id": "ay4nWA8uzQ4f",
        "outputId": "020d875d-ec7c-4a6e-91c4-63682700ad6a"
      },
      "execution_count": 12,
      "outputs": [
        {
          "output_type": "stream",
          "name": "stdout",
          "text": [
            "['monkey', 'cat', 'dog', 'fish', 'bird']\n"
          ]
        }
      ]
    },
    {
      "cell_type": "code",
      "source": [
        "animals.reverse()\n",
        "print (animals)"
      ],
      "metadata": {
        "colab": {
          "base_uri": "https://localhost:8080/"
        },
        "id": "ub-ZNGdfzWoQ",
        "outputId": "d5e94d8d-ef1b-4561-e6ae-d6d5379b6a15"
      },
      "execution_count": 13,
      "outputs": [
        {
          "output_type": "stream",
          "name": "stdout",
          "text": [
            "['bird', 'fish', 'dog', 'cat', 'monkey']\n"
          ]
        }
      ]
    },
    {
      "cell_type": "code",
      "source": [
        "animals.pop(1)\n",
        "print (animals)"
      ],
      "metadata": {
        "colab": {
          "base_uri": "https://localhost:8080/"
        },
        "id": "D0Zg2N2M0JSe",
        "outputId": "948f454b-a327-48ec-f13a-f73ef9ffe050"
      },
      "execution_count": 14,
      "outputs": [
        {
          "output_type": "stream",
          "name": "stdout",
          "text": [
            "['bird', 'dog', 'cat', 'monkey']\n"
          ]
        }
      ]
    },
    {
      "cell_type": "code",
      "source": [
        "#Inster an animal in a specific location using insert()\n",
        "animals = [\"monkey\",\"cat\", \"dog\", \"fish\"]\n",
        "animals.insert(1, \"bird\")\n",
        "print (animals)"
      ],
      "metadata": {
        "colab": {
          "base_uri": "https://localhost:8080/"
        },
        "id": "QjlZE5nJ0lyD",
        "outputId": "a126b1a5-cb6b-4b55-afd2-ae8e8f5d1844"
      },
      "execution_count": 15,
      "outputs": [
        {
          "output_type": "stream",
          "name": "stdout",
          "text": [
            "['monkey', 'bird', 'cat', 'dog', 'fish']\n"
          ]
        }
      ]
    },
    {
      "cell_type": "code",
      "source": [
        "#Remove the item in the specific index value using remove()\n",
        "animals = [\"monkey\",\"cat\", \"dog\", \"fish\"]\n",
        "animals.remove(\"dog\")\n",
        "print (animals)"
      ],
      "metadata": {
        "colab": {
          "base_uri": "https://localhost:8080/"
        },
        "id": "0A__0iM51E0E",
        "outputId": "9509381a-f8a8-410a-cc39-8826336d3c76"
      },
      "execution_count": 18,
      "outputs": [
        {
          "output_type": "stream",
          "name": "stdout",
          "text": [
            "['monkey', 'cat', 'fish']\n"
          ]
        }
      ]
    },
    {
      "cell_type": "code",
      "source": [
        "#Reverse all items in the list using reverse()\n",
        "animals = [\"monkey\",\"cat\", \"dog\", \"fish\"]\n",
        "animals.reverse()\n",
        "print (animals)"
      ],
      "metadata": {
        "colab": {
          "base_uri": "https://localhost:8080/"
        },
        "id": "ED_K9T491bI5",
        "outputId": "1b1447ff-b671-49b5-852f-050d819562e1"
      },
      "execution_count": 19,
      "outputs": [
        {
          "output_type": "stream",
          "name": "stdout",
          "text": [
            "['fish', 'dog', 'cat', 'monkey']\n"
          ]
        }
      ]
    }
  ]
}